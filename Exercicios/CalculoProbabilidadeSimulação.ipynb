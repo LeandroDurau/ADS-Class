{
  "cells": [
    {
      "cell_type": "markdown",
      "metadata": {
        "id": "view-in-github",
        "colab_type": "text"
      },
      "source": [
        "<a href=\"https://colab.research.google.com/github/LeandroDurau/ADS-Class/blob/main/Exercicios/CalculoProbabilidadeSimula%C3%A7%C3%A3o.ipynb\" target=\"_parent\"><img src=\"https://colab.research.google.com/assets/colab-badge.svg\" alt=\"Open In Colab\"/></a>"
      ]
    },
    {
      "cell_type": "markdown",
      "metadata": {
        "id": "1K2vSOSO4Y0E"
      },
      "source": [
        "## Cálculo de probabilidade por simulação\n",
        "\n",
        "As probabilidades são calculadas a partir de um modelo de probabilidades (fórmula matemática). Uma outra maneira de resolver o problema é realizar o experimento aleatório muitas vezes, e observar a proporção de vezes que o evento ocorre. Dessa maneira estamos calculando a probabilidade por simulação."
      ]
    },
    {
      "cell_type": "code",
      "execution_count": null,
      "metadata": {
        "id": "bl_sdgtQ4Y0G"
      },
      "outputs": [],
      "source": [
        "import numpy as np\n",
        "import time"
      ]
    },
    {
      "cell_type": "markdown",
      "metadata": {
        "id": "kPwM5sVz4Y0G"
      },
      "source": [
        "### Simulação 1 - Sorteio de 2 dados\n",
        "\n",
        "#### Cálculo analítico\n",
        "Seja o evento *A* a ocorrência dos números 3 e 6 no lançamento de dois dados. Podemos calcular a probabilidade intuitivamente contando as possibilidades de ocorrer os números 3 e 6 e o total de possibilidades para dois dados.<br><br>\n",
        "\n",
        "Se representarmos o lançamento de dois dados por um par de números (d1, d2), onde d1 é o resultado do dado 1 e d2 o resultado do dado 2, temos a seguinte tabela de possibilidades: $\\left\\{ \\left( 3,6 \\right),\\left( 6,3 \\right) \\right\\}$.<br>\n",
        "\n",
        "\n",
        "$P[A] = \\frac{2}{36} = 0,0556$\n",
        "\n",
        "#### Simulação Interativa\n",
        "A função Dado simula interativamente o lançamento de dois dados e o calculo da probabilidade de observarmos os valores 3 e 6.<br>\n",
        "A função [np.random.randint(menor, maior)](https://numpy.org/doc/stable/reference/random/generated/numpy.random.randint.html) sorteia valores inteiros uniformemente distribuídos entre menor e maior-1."
      ]
    },
    {
      "cell_type": "code",
      "execution_count": null,
      "metadata": {
        "id": "_Fn-hCFM4Y0H"
      },
      "outputs": [],
      "source": [
        "# Simulacao iterativa\n",
        "def Dado(n):\n",
        "    deuCerto = 0                        # Inicia quatidade de vezes que o evento ocorreu\n",
        "    for i in range(n):                  # Executa n vezes o sorteio dos dados\n",
        "        d1 = np.random.randint(1, 7)    # sorteia dado 1 (número inteiro aleatório entre 1 e 6)\n",
        "        d2 = np.random.randint(1, 7)    # sorteia dado 2 (número inteiro aleatório entre 1 e 6)\n",
        "        if ((d1 == 3) & (d2 == 6)) | ((d1 == 6) & (d2 == 3)):  # Testa se o evento ocorreu\n",
        "            deuCerto = deuCerto + 1     # Incrementa quatidade de vezes que o evento ocorreu\n",
        "    return deuCerto/n"
      ]
    },
    {
      "cell_type": "markdown",
      "metadata": {
        "id": "YMgbG2OR4Y0H"
      },
      "source": [
        "Os comandos abaixos simulam 50000 lançamentos de dois dados.<br>\n",
        "Imprime a proporção de vezes que o par (3,6) foi observado (probabilidade simulada).<br>\n",
        "Imprime o valor previsto pela teoria (probabilidade teórica).<br>\n",
        "Imprime o tempo de simulação (em segundos)."
      ]
    },
    {
      "cell_type": "code",
      "execution_count": null,
      "metadata": {
        "colab": {
          "base_uri": "https://localhost:8080/"
        },
        "id": "HWqUeUeK4Y0H",
        "outputId": "3be75437-3588-403e-9d4a-12688ff8b37e"
      },
      "outputs": [
        {
          "output_type": "stream",
          "name": "stdout",
          "text": [
            "Probabilidade simulada:  0.0565\n",
            "Probabilidade teórica: 0.0556\n",
            "Tempo de simulação: 0.8648\n"
          ]
        }
      ],
      "source": [
        "t1 = time.perf_counter()\n",
        "probS = Dado(50000)\n",
        "t2 = time.perf_counter()\n",
        "print('Probabilidade simulada:  {:.4f}'.format(probS))\n",
        "print('Probabilidade teórica: {:.4f}'.format(2/36))\n",
        "print('Tempo de simulação: {:.4f}'.format(t2-t1))"
      ]
    },
    {
      "cell_type": "markdown",
      "metadata": {
        "id": "DfNQ-P7B4Y0H"
      },
      "source": [
        "### Simulação 2 - Moeda\n",
        "#### Simulação interativa\n",
        "Lançar uma moeda até sair a primeira cara. <br>\n",
        "Calcular a probabilidade do número de lançamentos necessários ser par.<br><br>\n",
        "\n",
        "Simular um lançamento de uma moeda:\n",
        "* considerar 0 = cara\n",
        "* considerar 1 = coroa\n",
        "* utilizar np.ramdom.randint(0,2) para sortear\n",
        "\n",
        "Simular o evento (quantidade de vezes que a moeda foi lançada até sair cara):\n",
        "* implementar um laço que execurta até ser sorteado cara\n",
        "* contar a quantidade de sorteios executados até sair cara\n",
        "\n",
        "Testar se o evento ocorreu\n",
        "* testar se a quantidade de sorteios (k) executados é par\n",
        "* (k % 2) == 0 testa se K é par (resto da divisão por 2 igual a 0)"
      ]
    },
    {
      "cell_type": "code",
      "execution_count": null,
      "metadata": {
        "id": "1aw5pYf94Y0I"
      },
      "outputs": [],
      "source": [
        "# Simulacao interativa\n",
        "def Moeda(n):\n",
        "    # Inicia quatidade de vezes que o evento ocorreu\n",
        "    deuCerto = 0\n",
        "    for i in range(n):  # Executa n vezes o sorteio da moeda\n",
        "        cara = False\n",
        "        k = 0\n",
        "        # Sortear da moeda até sair cara\n",
        "        while not cara:\n",
        "          d1 = np.random.randint(0, 2)\n",
        "          # Contar quantas vezes sorteou\n",
        "          k += 1\n",
        "          if d1 == 0:\n",
        "            cara = True\n",
        "        # Se a quantidade de sorteios for par, incrementa deuCerto (quantidade de vezes que o evento ocorreu)\n",
        "        if k % 2 == 0:\n",
        "          deuCerto = deuCerto + 1\n",
        "    return deuCerto/n"
      ]
    },
    {
      "cell_type": "markdown",
      "metadata": {
        "id": "1YYrlT1P4Y0I"
      },
      "source": [
        "Os comandos abaixos simulam 50000 o lançamento de uma moeda até sair a primeira cara.<br>\n",
        "Imprime a proporção de vezes que foram necessários um número par de lançamentos (probabilidade simulada).<br>\n",
        "Imprime o valor previsto pela teoria (probabilidade teórica).<br>\n",
        "Imprime o tempo de simulação (em segundos)."
      ]
    },
    {
      "cell_type": "code",
      "execution_count": null,
      "metadata": {
        "colab": {
          "base_uri": "https://localhost:8080/"
        },
        "id": "YnWr_kAG4Y0I",
        "outputId": "a452e65d-457d-4fa4-d71a-a014fa1d9698"
      },
      "outputs": [
        {
          "output_type": "stream",
          "name": "stdout",
          "text": [
            "Probabilidade simulada:  0.3327\n",
            "Probabilidade teórica: 0.3333\n",
            "Tempo de simulação: 0.3094\n"
          ]
        }
      ],
      "source": [
        "import time\n",
        "t1 = time.perf_counter()\n",
        "probS = Moeda(50000)\n",
        "t2 = time.perf_counter()\n",
        "print('Probabilidade simulada:  {:.4f}'.format(probS))\n",
        "print('Probabilidade teórica: {:.4f}'.format(1/3))\n",
        "print('Tempo de simulação: {:.4f}'.format(t2-t1))"
      ]
    },
    {
      "cell_type": "markdown",
      "metadata": {
        "id": "K2pfsW1s4Y0I"
      },
      "source": [
        "## Entrega\n",
        "* Completar o código da função Moeda\n",
        "* Imprimir o netebook para pdf\n",
        "* Fazer upload do pdf no AVA"
      ]
    }
  ],
  "metadata": {
    "kernelspec": {
      "display_name": "Python 3 (ipykernel)",
      "language": "python",
      "name": "python3"
    },
    "language_info": {
      "codemirror_mode": {
        "name": "ipython",
        "version": 3
      },
      "file_extension": ".py",
      "mimetype": "text/x-python",
      "name": "python",
      "nbconvert_exporter": "python",
      "pygments_lexer": "ipython3",
      "version": "3.8.3"
    },
    "colab": {
      "provenance": [],
      "include_colab_link": true
    }
  },
  "nbformat": 4,
  "nbformat_minor": 0
}